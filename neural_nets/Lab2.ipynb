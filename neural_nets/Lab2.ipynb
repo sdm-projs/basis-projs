{
 "cells": [

  {
   "cell_type": "code",
   "execution_count": 15,
   "metadata": {},
   "outputs": [],
   "source": [
    "# preparing the environment\n",
    "import numpy as np\n",
    "\n",
    "from sympy import *\n",
    "init_printing(use_latex=True)\n",
    "\n",
    "import scipy.spatial.distance as ssd\n",
    "\n",
    "import matplotlib.pyplot as plt\n",
    "%matplotlib inline\n"
   ]
  },
  {
   "cell_type": "markdown",
   "metadata": {},
   "source": [
    "### 1. Create vector ***x*** and calculate its L2-norm and L1-norm"
   ]
  },
  {
   "cell_type": "code",
   "execution_count": 16,
   "metadata": {},
   "outputs": [
    {
     "name": "stdout",
     "output_type": "stream",
     "text": [
      "L2-norm of x: 9.643651\n",
      "L1-norm of x: 15.000000\n"
     ]
    }
   ],
   "source": [
    "# 1. Create a vector x, calculate L2 and L1 norm\n",
    "\n",
    "x = np.array([5,2,8])\n",
    "\n",
    "# Create a zero vector as origin\n",
    "z = np.array([0,0,0])\n",
    "\n",
    "print('L2-norm of x: %f'%ssd.minkowski(x,z,2))\n",
    "print('L1-norm of x: %f'%ssd.minkowski(x,z,1))"
   ]
  },
  {
   "cell_type": "markdown",
   "metadata": {},
   "source": [
    "### 2. Create vector ***y*** and calculate **both** the Euclidean and Cosine distances between ***y*** and vector ***x***"
   ]
  },
  {
   "cell_type": "code",
   "execution_count": 17,
   "metadata": {},
   "outputs": [
    {
     "name": "stdout",
     "output_type": "stream",
     "text": [
      "Euclidean distance between x and y: 7.280110\n",
      "Cosine distance between x and y: 0.251730\n"
     ]
    }
   ],
   "source": [
    "# 2. Create a vector y, calculate both Euclidean and Cosine distances betwee y and x\n",
    "\n",
    "y = np.array([1,3,2])\n",
    "\n",
    "print('Euclidean distance between x and y: %f'%ssd.euclidean(x,y))\n",
    "print('Cosine distance between x and y: %f'%ssd.cosine(x,y))"
   ]
  },
  {
   "cell_type": "markdown",
   "metadata": {},
   "source": [
    "### 3. Create matrix ***A***"
   ]
  },
  {
   "cell_type": "code",
   "execution_count": 18,
   "metadata": {},
   "outputs": [
    {
     "data": {
      "text/latex": [
       "$\\displaystyle \\left[\\begin{matrix}1 & 2 & 3\\\\4 & 5 & 6\\\\7 & 8 & 9\\\\10 & 11 & 12\\\\13 & 14 & 15\\end{matrix}\\right]$"
      ],
      "text/plain": [
       "⎡1   2   3 ⎤\n",
       "⎢          ⎥\n",
       "⎢4   5   6 ⎥\n",
       "⎢          ⎥\n",
       "⎢7   8   9 ⎥\n",
       "⎢          ⎥\n",
       "⎢10  11  12⎥\n",
       "⎢          ⎥\n",
       "⎣13  14  15⎦"
      ]
     },
     "execution_count": 18,
     "metadata": {},
     "output_type": "execute_result"
    }
   ],
   "source": [
    "# 3. Create a pretty-print of A\n",
    "\n",
    "A = np.array([[ 1,  2,  3],\n",
    "       [ 4,  5,  6],\n",
    "       [ 7,  8,  9],\n",
    "       [10, 11, 12],\n",
    "       [13, 14, 15]])\n",
    "\n",
    "Matrix(A)"
   ]
  },
  {
   "cell_type": "markdown",
   "metadata": {},
   "source": [
    "### 4. Multiply ***A*** by ***x*** and ***y***, i.e calculate ***Ax*** and then ***Ay***"
   ]
  },
  {
   "cell_type": "code",
   "execution_count": 19,
   "metadata": {},
   "outputs": [
    {
     "data": {
      "text/latex": [
       "$\\displaystyle \\left[\\begin{matrix}1 & 2 & 3\\\\4 & 5 & 6\\\\7 & 8 & 9\\\\10 & 11 & 12\\\\13 & 14 & 15\\end{matrix}\\right] \\left[\\begin{matrix}5\\\\2\\\\8\\end{matrix}\\right] = \\left[\\begin{matrix}33\\\\78\\\\123\\\\168\\\\213\\end{matrix}\\right]$"
      ],
      "text/plain": [
       "⎡1   2   3 ⎤       ⎡33 ⎤\n",
       "⎢          ⎥       ⎢   ⎥\n",
       "⎢4   5   6 ⎥ ⎡5⎤   ⎢78 ⎥\n",
       "⎢          ⎥ ⎢ ⎥   ⎢   ⎥\n",
       "⎢7   8   9 ⎥⋅⎢2⎥ = ⎢123⎥\n",
       "⎢          ⎥ ⎢ ⎥   ⎢   ⎥\n",
       "⎢10  11  12⎥ ⎣8⎦   ⎢168⎥\n",
       "⎢          ⎥       ⎢   ⎥\n",
       "⎣13  14  15⎦       ⎣213⎦"
      ]
     },
     "execution_count": 19,
     "metadata": {},
     "output_type": "execute_result"
    }
   ],
   "source": [
    "# 4.1 Multiple A by X\n",
    "\n",
    "Eq(MatMul(Matrix(A), Matrix(x),evaluate=False),\n",
    "  Matrix(np.dot(A,x)), evaluate=False)"
   ]
  },
  {
   "cell_type": "code",
   "execution_count": 20,
   "metadata": {},
   "outputs": [
    {
     "data": {
      "text/latex": [
       "$\\displaystyle \\left[\\begin{matrix}1 & 2 & 3\\\\4 & 5 & 6\\\\7 & 8 & 9\\\\10 & 11 & 12\\\\13 & 14 & 15\\end{matrix}\\right] \\left[\\begin{matrix}1\\\\3\\\\2\\end{matrix}\\right] = \\left[\\begin{matrix}13\\\\31\\\\49\\\\67\\\\85\\end{matrix}\\right]$"
      ],
      "text/plain": [
       "⎡1   2   3 ⎤       ⎡13⎤\n",
       "⎢          ⎥       ⎢  ⎥\n",
       "⎢4   5   6 ⎥ ⎡1⎤   ⎢31⎥\n",
       "⎢          ⎥ ⎢ ⎥   ⎢  ⎥\n",
       "⎢7   8   9 ⎥⋅⎢3⎥ = ⎢49⎥\n",
       "⎢          ⎥ ⎢ ⎥   ⎢  ⎥\n",
       "⎢10  11  12⎥ ⎣2⎦   ⎢67⎥\n",
       "⎢          ⎥       ⎢  ⎥\n",
       "⎣13  14  15⎦       ⎣85⎦"
      ]
     },
     "execution_count": 20,
     "metadata": {},
     "output_type": "execute_result"
    }
   ],
   "source": [
    "# 4.2 and multiple A by Y\n",
    "\n",
    "Eq(MatMul(Matrix(A), Matrix(y),evaluate=False),\n",
    "  Matrix(np.dot(A,y)), evaluate=False)"
   ]
  },
  {
   "cell_type": "markdown",
   "metadata": {},
   "source": [
    "### 5. Create matrix ***B*** then compute ***AB***"
   ]
  },
  {
   "cell_type": "code",
   "execution_count": 21,
   "metadata": {},
   "outputs": [
    {
     "data": {
      "text/latex": [
       "$\\displaystyle \\left[\\begin{matrix}1 & 2 & 3\\\\4 & 5 & 6\\\\7 & 8 & 9\\\\10 & 11 & 12\\\\13 & 14 & 15\\end{matrix}\\right] \\left[\\begin{matrix}1 & 2 & 3 & 4\\\\5 & 6 & 7 & 8\\\\9 & 10 & 11 & 12\\end{matrix}\\right] = \\left[\\begin{matrix}38 & 44 & 50 & 56\\\\83 & 98 & 113 & 128\\\\128 & 152 & 176 & 200\\\\173 & 206 & 239 & 272\\\\218 & 260 & 302 & 344\\end{matrix}\\right]$"
      ],
      "text/plain": [
       "⎡1   2   3 ⎤                   ⎡38   44   50   56 ⎤\n",
       "⎢          ⎥                   ⎢                  ⎥\n",
       "⎢4   5   6 ⎥ ⎡1  2   3   4 ⎤   ⎢83   98   113  128⎥\n",
       "⎢          ⎥ ⎢             ⎥   ⎢                  ⎥\n",
       "⎢7   8   9 ⎥⋅⎢5  6   7   8 ⎥ = ⎢128  152  176  200⎥\n",
       "⎢          ⎥ ⎢             ⎥   ⎢                  ⎥\n",
       "⎢10  11  12⎥ ⎣9  10  11  12⎦   ⎢173  206  239  272⎥\n",
       "⎢          ⎥                   ⎢                  ⎥\n",
       "⎣13  14  15⎦                   ⎣218  260  302  344⎦"
      ]
     },
     "execution_count": 21,
     "metadata": {},
     "output_type": "execute_result"
    }
   ],
   "source": [
    "# 5. Create matrix B and computer AB\n",
    "\n",
    "B = np.array([[1,2,3,4],\n",
    "             [5,6,7,8],\n",
    "             [9,10,11,12]])\n",
    "\n",
    "Eq(MatMul(Matrix(A), Matrix(B),evaluate=False),\n",
    "  Matrix(np.dot(A,B)), evaluate=False)"
   ]
  },
  {
   "cell_type": "markdown",
   "metadata": {},
   "source": [
    "### 6. Calculate *pairwise Euclidean* matrix for the row-vectors in ***A***"
   ]
  },
  {
   "cell_type": "code",
   "execution_count": 22,
   "metadata": {},
   "outputs": [
    {
     "data": {
      "text/latex": [
       "$\\displaystyle \\left[\\begin{matrix}0.0 & 5.19615242270663 & 10.3923048454133 & 15.5884572681199 & 20.7846096908265\\\\5.19615242270663 & 0.0 & 5.19615242270663 & 10.3923048454133 & 15.5884572681199\\\\10.3923048454133 & 5.19615242270663 & 0.0 & 5.19615242270663 & 10.3923048454133\\\\15.5884572681199 & 10.3923048454133 & 5.19615242270663 & 0.0 & 5.19615242270663\\\\20.7846096908265 & 15.5884572681199 & 10.3923048454133 & 5.19615242270663 & 0.0\\end{matrix}\\right]$"
      ],
      "text/plain": [
       "⎡      0.0         5.19615242270663  10.3923048454133  15.5884572681199  20.78\n",
       "⎢                                                                             \n",
       "⎢5.19615242270663        0.0         5.19615242270663  10.3923048454133  15.58\n",
       "⎢                                                                             \n",
       "⎢10.3923048454133  5.19615242270663        0.0         5.19615242270663  10.39\n",
       "⎢                                                                             \n",
       "⎢15.5884572681199  10.3923048454133  5.19615242270663        0.0         5.196\n",
       "⎢                                                                             \n",
       "⎣20.7846096908265  15.5884572681199  10.3923048454133  5.19615242270663       \n",
       "\n",
       "46096908265⎤\n",
       "           ⎥\n",
       "84572681199⎥\n",
       "           ⎥\n",
       "23048454133⎥\n",
       "           ⎥\n",
       "15242270663⎥\n",
       "           ⎥\n",
       " 0.0       ⎦"
      ]
     },
     "execution_count": 22,
     "metadata": {},
     "output_type": "execute_result"
    }
   ],
   "source": [
    "# 6. Pairwise Euclidean distance matrix for A\n",
    "\n",
    "Matrix(ssd.squareform(ssd.pdist(A, metric=\"euclidean\")))\n"
   ]
  },
  {
   "cell_type": "markdown",
   "metadata": {},
   "source": [
    "### 7. Calculate the square 3x3 matrix ***C***=***$BB^T$***"
   ]
  },
  {
   "cell_type": "code",
   "execution_count": 23,
   "metadata": {},
   "outputs": [
    {
     "data": {
      "text/latex": [
       "$\\displaystyle \\left[\\begin{matrix}1 & 2 & 3 & 4\\\\5 & 6 & 7 & 8\\\\9 & 10 & 11 & 12\\end{matrix}\\right] \\left[\\begin{matrix}1 & 5 & 9\\\\2 & 6 & 10\\\\3 & 7 & 11\\\\4 & 8 & 12\\end{matrix}\\right] = \\left[\\begin{matrix}30 & 70 & 110\\\\70 & 174 & 278\\\\110 & 278 & 446\\end{matrix}\\right]$"
      ],
      "text/plain": [
       "                ⎡1  5  9 ⎤                  \n",
       "⎡1  2   3   4 ⎤ ⎢        ⎥   ⎡30   70   110⎤\n",
       "⎢             ⎥ ⎢2  6  10⎥   ⎢             ⎥\n",
       "⎢5  6   7   8 ⎥⋅⎢        ⎥ = ⎢70   174  278⎥\n",
       "⎢             ⎥ ⎢3  7  11⎥   ⎢             ⎥\n",
       "⎣9  10  11  12⎦ ⎢        ⎥   ⎣110  278  446⎦\n",
       "                ⎣4  8  12⎦                  "
      ]
     },
     "execution_count": 23,
     "metadata": {},
     "output_type": "execute_result"
    }
   ],
   "source": [
    "# 7. Calculate C=B(B^T)\n",
    "\n",
    "BT = Matrix(B).T\n",
    "\n",
    "Eq(MatMul(Matrix(B), Matrix(BT),evaluate=False),\n",
    "  Matrix(np.dot(B,BT)), evaluate=False)\n",
    "\n"
   ]
  },
  {
   "cell_type": "code",
   "execution_count": 24,
   "metadata": {},
   "outputs": [],
   "source": [
    "# Store Matrix C in a variable\n",
    "C = np.dot(B,B.T)\n"
   ]
  },
  {
   "cell_type": "markdown",
   "metadata": {},
   "source": [
    "### 8. Calculate Eigen Decomposition of ***C***"
   ]
  },
  {
   "cell_type": "code",
   "execution_count": 25,
   "metadata": {},
   "outputs": [
    {
     "data": {
      "text/latex": [
       "$\\displaystyle \\left[\\begin{matrix}-0.206735891257632 & -0.889153307703033 & 0.408248290463864\\\\-0.518288737899116 & -0.254381834061074 & -0.816496580927726\\\\-0.8298415845406 & 0.380389639580891 & 0.408248290463863\\end{matrix}\\right] \\left[\\begin{matrix}647.03260704469 & 0.0 & 0.0\\\\0.0 & 2.96739295530956 & 0.0\\\\0.0 & 0.0 & 4.87870499398046 \\cdot 10^{-14}\\end{matrix}\\right] \\left[\\begin{matrix}-0.206735891257632 & -0.518288737899116 & -0.8298415845406\\\\-0.889153307703033 & -0.254381834061074 & 0.380389639580891\\\\0.408248290463864 & -0.816496580927726 & 0.408248290463863\\end{matrix}\\right]$"
      ],
      "text/plain": [
       "⎡-0.206735891257632  -0.889153307703033  0.408248290463864 ⎤ ⎡647.03260704469 \n",
       "⎢                                                          ⎥ ⎢                \n",
       "⎢-0.518288737899116  -0.254381834061074  -0.816496580927726⎥⋅⎢      0.0       \n",
       "⎢                                                          ⎥ ⎢                \n",
       "⎣ -0.8298415845406   0.380389639580891   0.408248290463863 ⎦ ⎣      0.0       \n",
       "\n",
       "       0.0                 0.0         ⎤ ⎡-0.206735891257632  -0.5182887378991\n",
       "                                       ⎥ ⎢                                    \n",
       " 2.96739295530956          0.0         ⎥⋅⎢-0.889153307703033  -0.2543818340610\n",
       "                                       ⎥ ⎢                                    \n",
       "       0.0         4.87870499398046e-14⎦ ⎣0.408248290463864   -0.8164965809277\n",
       "\n",
       "16  -0.8298415845406 ⎤\n",
       "                     ⎥\n",
       "74  0.380389639580891⎥\n",
       "                     ⎥\n",
       "26  0.408248290463863⎦"
      ]
     },
     "execution_count": 25,
     "metadata": {},
     "output_type": "execute_result"
    }
   ],
   "source": [
    "#8.  Let's decompose C\n",
    "\n",
    "L,Q = np.linalg.eig(C)\n",
    "\n",
    "MatMul(Matrix(Q),Matrix(np.diag(L)),Matrix(Q).T,evaluate=False)"
   ]
  },
  {
   "cell_type": "markdown",
   "metadata": {},
   "source": [
    "### 9. Use $\\Omega$ and $\\Lambda$ matrices to recalculate **C** "
   ]
  },
  {
   "cell_type": "code",
   "execution_count": 26,
   "metadata": {},
   "outputs": [
    {
     "data": {
      "text/latex": [
       "$\\displaystyle \\left[\\begin{matrix}30.0 & 70.0 & 110.0\\\\70.0 & 174.0 & 278.0\\\\110.0 & 278.0 & 446.0\\end{matrix}\\right]$"
      ],
      "text/plain": [
       "⎡30.0   70.0   110.0⎤\n",
       "⎢                   ⎥\n",
       "⎢70.0   174.0  278.0⎥\n",
       "⎢                   ⎥\n",
       "⎣110.0  278.0  446.0⎦"
      ]
     },
     "execution_count": 26,
     "metadata": {},
     "output_type": "execute_result"
    }
   ],
   "source": [
    "#9.  Recalculate A using Q and L\n",
    "\n",
    "Matrix(np.round(np.dot(np.dot(Q, np.diag(L)),Q.T),12))"
   ]
  },
  {
   "cell_type": "markdown",
   "metadata": {},
   "source": [
    "### 10. Calculate Single Value Decomposition of ***C***"
   ]
  },
  {
   "cell_type": "code",
   "execution_count": 27,
   "metadata": {},
   "outputs": [
    {
     "data": {
      "text/latex": [
       "$\\displaystyle \\left[\\begin{matrix}-0.206735891257632 & 0.889153307703034 & 0.408248290463863\\\\-0.518288737899116 & 0.254381834061072 & -0.816496580927726\\\\-0.8298415845406 & -0.38038963958089 & 0.408248290463863\\end{matrix}\\right] \\left[\\begin{matrix}647.03260704469 & 0.0 & 0.0\\\\0.0 & 2.96739295530957 & 0.0\\\\0.0 & 0.0 & 2.01790290563207 \\cdot 10^{-16}\\end{matrix}\\right] \\left[\\begin{matrix}-0.206735891257632 & -0.518288737899116 & -0.8298415845406\\\\0.889153307703034 & 0.254381834061072 & -0.38038963958089\\\\0.408248290463863 & -0.816496580927726 & 0.408248290463863\\end{matrix}\\right]$"
      ],
      "text/plain": [
       "⎡-0.206735891257632  0.889153307703034  0.408248290463863 ⎤ ⎡647.03260704469  \n",
       "⎢                                                         ⎥ ⎢                 \n",
       "⎢-0.518288737899116  0.254381834061072  -0.816496580927726⎥⋅⎢      0.0        \n",
       "⎢                                                         ⎥ ⎢                 \n",
       "⎣ -0.8298415845406   -0.38038963958089  0.408248290463863 ⎦ ⎣      0.0        \n",
       "\n",
       "      0.0                 0.0         ⎤ ⎡-0.206735891257632  -0.51828873789911\n",
       "                                      ⎥ ⎢                                     \n",
       "2.96739295530957          0.0         ⎥⋅⎢0.889153307703034   0.254381834061072\n",
       "                                      ⎥ ⎢                                     \n",
       "      0.0         2.01790290563207e-16⎦ ⎣0.408248290463863   -0.81649658092772\n",
       "\n",
       "6  -0.8298415845406 ⎤\n",
       "                    ⎥\n",
       "   -0.38038963958089⎥\n",
       "                    ⎥\n",
       "6  0.408248290463863⎦"
      ]
     },
     "execution_count": 27,
     "metadata": {},
     "output_type": "execute_result"
    }
   ],
   "source": [
    "#10. Calculate single value decomposition for C\n",
    "\n",
    "U,S,V = np.linalg.svd(C, full_matrices=True)\n",
    "\n",
    "MatMul(Matrix(U),Matrix(np.diag(S)),Matrix(V), evaluate=False)"
   ]
  },
  {
   "cell_type": "markdown",
   "metadata": {},
   "source": [
    "### 11. Use $\\upsilon$, $\\Sigma$, and $\\nu$ to recalculate C"
   ]
  },
  {
   "cell_type": "code",
   "execution_count": 28,
   "metadata": {},
   "outputs": [
    {
     "data": {
      "text/latex": [
       "$\\displaystyle \\left[\\begin{matrix}30.0 & 70.0 & 110.0\\\\70.0 & 174.0 & 278.0\\\\110.0 & 278.0 & 446.0\\end{matrix}\\right]$"
      ],
      "text/plain": [
       "⎡30.0   70.0   110.0⎤\n",
       "⎢                   ⎥\n",
       "⎢70.0   174.0  278.0⎥\n",
       "⎢                   ⎥\n",
       "⎣110.0  278.0  446.0⎦"
      ]
     },
     "execution_count": 28,
     "metadata": {},
     "output_type": "execute_result"
    }
   ],
   "source": [
    "#11.  Use U, S, and V from Problem 10 to recalculate C\n",
    "\n",
    "Matrix(np.round(np.dot(np.dot(U,np.diag(S)),V),12))"
   ]
  },
  {
   "cell_type": "code",
   "execution_count": null,
   "metadata": {},
   "outputs": [],
   "source": []
  }
 ],
 "metadata": {
  "kernelspec": {
   "display_name": "Python 3",
   "language": "python",
   "name": "python3"
  },
  "language_info": {
   "codemirror_mode": {
    "name": "ipython",
    "version": 3
   },
   "file_extension": ".py",
   "mimetype": "text/x-python",
   "name": "python",
   "nbconvert_exporter": "python",
   "pygments_lexer": "ipython3",
   "version": "3.7.3"
  }
 },
 "nbformat": 4,
 "nbformat_minor": 4
}
